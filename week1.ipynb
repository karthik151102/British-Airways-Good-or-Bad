{
  "nbformat": 4,
  "nbformat_minor": 0,
  "metadata": {
    "colab": {
      "provenance": [],
      "authorship_tag": "ABX9TyN2IJvKRxdFJb7WMDB5vZe7",
      "include_colab_link": true
    },
    "kernelspec": {
      "name": "python3",
      "display_name": "Python 3"
    },
    "language_info": {
      "name": "python"
    }
  },
  "cells": [
    {
      "cell_type": "markdown",
      "metadata": {
        "id": "view-in-github",
        "colab_type": "text"
      },
      "source": [
        "<a href=\"https://colab.research.google.com/github/karthik151102/British-Airways-Good-or-Bad/blob/main/week1.ipynb\" target=\"_parent\"><img src=\"https://colab.research.google.com/assets/colab-badge.svg\" alt=\"Open In Colab\"/></a>"
      ]
    },
    {
      "cell_type": "code",
      "execution_count": null,
      "metadata": {
        "colab": {
          "base_uri": "https://localhost:8080/"
        },
        "id": "BsWACI0XOqcz",
        "outputId": "0a3d80c3-5a98-4392-b86f-2b34c487c554"
      },
      "outputs": [
        {
          "output_type": "stream",
          "name": "stdout",
          "text": [
            "10\n",
            "Dimension of x is 0\n",
            "Shape of x is ()\n",
            "Data type of x is  int64\n"
          ]
        }
      ],
      "source": [
        "#Deep Learning Week 1 Programs\n",
        "#1.Write a Program to demonstrate scalar and vector of tensors using numpy and apply key attributes(rank, shape and dtype on each type of tensor).\n",
        "#1a. scalar or 0D tensor\n",
        "import numpy as np\n",
        "x=np.array(10)\n",
        "print(x)\n",
        "print(\"Dimension of x is\",x.ndim)\n",
        "print(\"Shape of x is\",x.shape)\n",
        "print(\"Data type of x is \",x.dtype)"
      ]
    },
    {
      "cell_type": "code",
      "execution_count": null,
      "metadata": {
        "colab": {
          "base_uri": "https://localhost:8080/"
        },
        "id": "ck91amIuPJFt",
        "outputId": "5a6a9616-b45e-4004-a219-295f0bfcec2d"
      },
      "outputs": [
        {
          "output_type": "stream",
          "name": "stdout",
          "text": [
            "[1 2 3 4]\n",
            "Dimension of x is 1\n",
            "Shape of x is (4,)\n",
            "Data type of x is  int64\n"
          ]
        }
      ],
      "source": [
        "#1b.Vector or 1D tensor\n",
        "import numpy as np\n",
        "x=np.array([1,2,3,4])\n",
        "print(x)\n",
        "print(\"Dimension of x is\",x.ndim)\n",
        "print(\"Shape of x is\",x.shape)\n",
        "print(\"Data type of x is \",x.dtype)"
      ]
    },
    {
      "cell_type": "code",
      "source": [
        "#2. Write a Program to demonstrate Matrix and Rank 3 tensors using numpy and apply key attributes(rank, shape and dtype on each type of tensor).\n",
        "#2a.Matrix or 2D tensor\n",
        "\n",
        "import numpy as np\n",
        "x=np.array([[1,2,3,4],[5,6,7,8]])\n",
        "print(x)\n",
        "print(\"Dimension of x is\",x.ndim)\n",
        "print(\"Shape of x is\",x.shape)\n",
        "print(\"Data type of x is \",x.dtype)"
      ],
      "metadata": {
        "colab": {
          "base_uri": "https://localhost:8080/"
        },
        "id": "_nQv9NpZPfFk",
        "outputId": "1d9061e8-6fcb-4d39-c4d8-7a843ff44bbe"
      },
      "execution_count": null,
      "outputs": [
        {
          "output_type": "stream",
          "name": "stdout",
          "text": [
            "[[1 2 3 4]\n",
            " [5 6 7 8]]\n",
            "Dimension of x is 2\n",
            "Shape of x is (2, 4)\n",
            "Data type of x is  int64\n"
          ]
        }
      ]
    },
    {
      "cell_type": "code",
      "source": [
        "#2b.  3D tensor or high dimensional tensor\n",
        "import numpy as np\n",
        "x=np.array([[[1,2,3,4],[5,6,7,8]],[[1,1,1,1],[2,2,2,2]]])\n",
        "print(x)\n",
        "print(\"Dimension of x is\",x.ndim)\n",
        "print(\"Shape of x is\",x.shape)\n",
        "print(\"Data type of x is \",x.dtype)"
      ],
      "metadata": {
        "colab": {
          "base_uri": "https://localhost:8080/"
        },
        "id": "3CNHMwRHPrks",
        "outputId": "3ece7090-376d-4888-e615-ed7400fc6275"
      },
      "execution_count": null,
      "outputs": [
        {
          "output_type": "stream",
          "name": "stdout",
          "text": [
            "[[[1 2 3 4]\n",
            "  [5 6 7 8]]\n",
            "\n",
            " [[1 1 1 1]\n",
            "  [2 2 2 2]]]\n",
            "Dimension of x is 3\n",
            "Shape of x is (2, 2, 4)\n",
            "Data type of x is  int64\n"
          ]
        }
      ]
    },
    {
      "cell_type": "code",
      "source": [
        "#3. Write a program to demonstrate Tensor slicing for manipulating tensor\n",
        "\n",
        "#loading mnist dataset\n",
        "from tensorflow.keras.datasets import mnist\n",
        "(train_images, train_labels),(test_images, test_labels) = mnist.load_data()\n"
      ],
      "metadata": {
        "id": "lBJcn0jcPtck"
      },
      "execution_count": null,
      "outputs": []
    },
    {
      "cell_type": "code",
      "source": [
        "print(\"MNIST DataSet\")\n",
        "print(\"**************\")\n",
        "print(\"Trained images dimension is\",train_images.ndim)\n",
        "print(\"Trained images shape is\",train_images.shape)\n",
        "print(\"Tained images datatype is\",test_images.dtype)\n",
        "print(\"Train labels dimension is\",train_labels.ndim)\n",
        "print(\"Train labels shape is\",train_labels.shape)\n",
        "print()\n",
        "print(\"Test images dimension  is \",test_images.ndim)\n",
        "print(\"Test images shape is \",test_images.shape)\n",
        "print(\"Test labels dimension is\",test_labels.ndim)\n",
        "print(\"Test labels shape is\",test_labels.shape)\n",
        "print()"
      ],
      "metadata": {
        "colab": {
          "base_uri": "https://localhost:8080/"
        },
        "id": "tVxWOwgTQYzM",
        "outputId": "c0ca1999-cc17-49f7-907c-4717d64d39c1"
      },
      "execution_count": null,
      "outputs": [
        {
          "output_type": "stream",
          "name": "stdout",
          "text": [
            "MNIST DataSet\n",
            "**************\n",
            "Trained images dimension is 3\n",
            "Trained images shape is (60000, 28, 28)\n",
            "Tained images datatype is uint8\n",
            "Train labels dimension is 1\n",
            "Train labels shape is (60000,)\n",
            "\n",
            "Test images dimension  is  3\n",
            "Test images shape is  (10000, 28, 28)\n",
            "Test labels dimension is 1\n",
            "Test labels shape is (10000,)\n",
            "\n"
          ]
        }
      ]
    },
    {
      "cell_type": "code",
      "source": [
        "#manipulating tensors on mnist dataset or tensor slicing operation\n",
        "\n",
        "#To select digits #10 to #100 (#100 isn’t included)\n",
        "\n",
        "slice1 = train_images[10:100]\n",
        "print(slice1.shape)\n",
        "'''Above slicing is equivalent to which specifies a start index and stop index for the  slice along each tensor axis. Note that : is equivalent to selecting the  entire axis'''\n",
        "slice1 = train_images[10:100,:,:]\n",
        "print(slice1.shape) #This statement also equivalent to the above examples\n",
        "slice1 = train_images[10:100,0:28,0:28]\n",
        "print(slice1.shape) #To select 14 X 14 pixels in the bottom-right corner of all images\n",
        "slice1 = train_images[:,:14,:14]\n",
        "print(slice1.shape) #To crop the images to patches of 14 X 14 pixels centered in the middle\n",
        "slice1 = train_images[:,7:-7,7:-7]\n",
        "print(slice1.shape)"
      ],
      "metadata": {
        "id": "xQIeQJ1fQjrE",
        "outputId": "c1f98f6d-41f7-4274-a698-0c9bdb59b560",
        "colab": {
          "base_uri": "https://localhost:8080/"
        }
      },
      "execution_count": null,
      "outputs": [
        {
          "output_type": "stream",
          "name": "stdout",
          "text": [
            "(90, 28, 28)\n",
            "(90, 28, 28)\n",
            "(90, 28, 28)\n",
            "(60000, 14, 14)\n",
            "(60000, 14, 14)\n"
          ]
        }
      ]
    }
  ]
}